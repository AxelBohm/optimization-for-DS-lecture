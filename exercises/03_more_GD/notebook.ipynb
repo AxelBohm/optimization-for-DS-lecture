{
 "cells": [
  {
   "cell_type": "code",
   "execution_count": null,
   "metadata": {},
   "outputs": [],
   "source": [
    "# Useful starting lines\n",
    "%matplotlib inline\n",
    "import numpy as np\n",
    "import matplotlib.pyplot as plt\n",
    "%load_ext autoreload\n",
    "%autoreload 2"
   ]
  },
  {
   "cell_type": "markdown",
   "metadata": {},
   "source": [
    "# Solving Fixed Point Problems\n",
    "\n",
    "In numerous applications, we encounter the task of solving equations of the form $$x = g(x)$$\n",
    "for a continuous function $g$. In this exercise we will see one simple method to solve such problems: $$x_{t+1} = g(x_t)\\,.$$\n",
    "We will solve two equations of this form: $$x = log(1+x)$$ and $$x = log(2+x)\\,.$$"
   ]
  },
  {
   "cell_type": "markdown",
   "metadata": {},
   "source": [
    "## Plot $g$"
   ]
  },
  {
   "cell_type": "markdown",
   "metadata": {},
   "source": [
    "Let us see how the two functions look over an interval $[0,2]$."
   ]
  },
  {
   "cell_type": "code",
   "execution_count": null,
   "metadata": {},
   "outputs": [],
   "source": [
    "x = np.arange(-0.1, 2, 0.0001)\n",
    "\"\"\"Compute the value of g(x).\"\"\"\n",
    "# ***************************************************\n",
    "# INSERT YOUR CODE HERE\n",
    "# TODO: compute the values of log(1+x) and log(2+x)\n",
    "# ***************************************************\n",
    "\n",
    "\"\"\"Plot the computed values\"\"\"\n",
    "fig = plt.figure()\n",
    "plt.plot(x, x, label='x')\n",
    "plt.plot(x, y1, label='$\\log(1 + x)$')\n",
    "plt.plot(x, y2, label='$\\log(2 + x)$')\n",
    "plt.grid(linestyle=':')\n",
    "plt.axhline(0, color='black')\n",
    "plt.axvline(0, color='black')\n",
    "plt.legend()"
   ]
  },
  {
   "cell_type": "markdown",
   "metadata": {},
   "source": [
    "## Compute Lipschitz Constant of $g$\n",
    "\n",
    "Derive and plot the derivate of $\\log(1+x)$ and $\\log(2+x)$ over the interval $[0,2]$. What are the Lipschitz constants?"
   ]
  },
  {
   "cell_type": "code",
   "execution_count": null,
   "metadata": {},
   "outputs": [],
   "source": [
    "x = np.arange(-0.1, 2, 0.0001)\n",
    "\n",
    "\"\"\"Compute the derivative of g(x).\"\"\"\n",
    "# ***************************************************\n",
    "# INSERT YOUR CODE HERE\n",
    "# TODO: compute the derivatives of log(1+x) and log(2+x)\n",
    "# ***************************************************\n",
    "\n",
    "\"\"\"Plot the computed values\"\"\"\n",
    "fig = plt.figure()\n",
    "plt.plot(x, y1, label='$\\log(1 + x)$')\n",
    "plt.plot(x, y2, label='$\\log(2 + x)$')\n",
    "plt.grid(linestyle=':')\n",
    "plt.axhline(0, color='black')\n",
    "plt.axvline(0, color='black')\n",
    "plt.legend()"
   ]
  },
  {
   "cell_type": "markdown",
   "metadata": {},
   "source": [
    "## Computing Fixed Point"
   ]
  },
  {
   "cell_type": "markdown",
   "metadata": {},
   "source": [
    "Please fill in the functions `compute_gradient` below:"
   ]
  },
  {
   "cell_type": "code",
   "execution_count": null,
   "metadata": {},
   "outputs": [],
   "source": [
    "def fixed_point(initial_x, max_iters, objective):\n",
    "    \"\"\"Compute the fixed point.\"\"\"\n",
    "    # Define parameters to store x and objective func. values\n",
    "    xs = []\n",
    "    errors = []\n",
    "    x = initial_x\n",
    "    for n_iter in range(max_iters):\n",
    "        # compute objective and error\n",
    "        obj = objective(x)\n",
    "        error = np.abs(x - obj)\n",
    "        # store x and error\n",
    "        xs.append(x)\n",
    "        errors.append(error)\n",
    "        \n",
    "        # update x\n",
    "        \n",
    "        # ***************************************************\n",
    "        # INSERT YOUR CODE HERE\n",
    "        # TODO: compute the update\n",
    "        # ***************************************************\n",
    "        \n",
    "        # print the current error\n",
    "        if n_iter % 10 == 0: \n",
    "            print(\"Fixed point: iteration ={i}, x = {x:.2e}, error={err:.2e}\".format(i=n_iter, x=x, err=error))\n",
    "    return errors, xs"
   ]
  },
  {
   "cell_type": "markdown",
   "metadata": {},
   "source": [
    "Test your implementation on the first function. Does it converge to 0?"
   ]
  },
  {
   "cell_type": "code",
   "execution_count": null,
   "metadata": {},
   "outputs": [],
   "source": [
    "# Define the parameters of the algorithm.\n",
    "max_iters = 100\n",
    "\n",
    "# Write the objective function\n",
    "func = lambda x: np.log(1 + x)\n",
    "\n",
    "# Initialization\n",
    "initial_x = 1\n",
    "\n",
    "# Run fixed point.\n",
    "errors_func1, xs_func1 = fixed_point(initial_x, max_iters, func)\n"
   ]
  },
  {
   "cell_type": "markdown",
   "metadata": {},
   "source": [
    "Run your implementation on the second function"
   ]
  },
  {
   "cell_type": "code",
   "execution_count": null,
   "metadata": {},
   "outputs": [],
   "source": [
    "# Define the parameters of the algorithm.\n",
    "max_iters = 100\n",
    "\n",
    "# Write the second objective function\n",
    "func = lambda x: np.log(2 + x)\n",
    "\n",
    "# Initialization\n",
    "initial_x = 1\n",
    "\n",
    "# Run fixed point.\n",
    "errors_func2, xs_func2 = fixed_point(initial_x, max_iters, func)\n"
   ]
  },
  {
   "cell_type": "markdown",
   "metadata": {},
   "source": [
    "**Plotting error values**"
   ]
  },
  {
   "cell_type": "code",
   "execution_count": null,
   "metadata": {
    "scrolled": false
   },
   "outputs": [],
   "source": [
    "plt.semilogy()\n",
    "plt.xlabel('Number of steps')\n",
    "plt.ylabel('Value of Error')\n",
    "#plt.yscale(\"log\")\n",
    "plt.plot(range(len(errors_func1)), errors_func1, label='$log(1 + x)$')\n",
    "plt.plot(range(len(errors_func2)), errors_func2, label='$log(2 + x)$')\n",
    "\n",
    "plt.legend()\n",
    "plt.show()"
   ]
  },
  {
   "cell_type": "markdown",
   "metadata": {},
   "source": [
    "What do you observe about the rates of convergence of the two methods? Can you explain this difference?\n",
    "\n",
    "Repeat the experiment with different starting points. Try also with $x=sin(x)$, $x = sin(x+1)$, and $x = sin(x+2)$. How about other functions?"
   ]
  },
  {
   "cell_type": "code",
   "execution_count": null,
   "metadata": {},
   "outputs": [],
   "source": []
  }
 ],
 "metadata": {
  "anaconda-cloud": {},
  "hide_input": false,
  "kernelspec": {
   "display_name": "Python 3",
   "language": "python",
   "name": "python3"
  },
  "language_info": {
   "codemirror_mode": {
    "name": "ipython",
    "version": 3
   },
   "file_extension": ".py",
   "mimetype": "text/x-python",
   "name": "python",
   "nbconvert_exporter": "python",
   "pygments_lexer": "ipython3",
   "version": "3.9.5"
  },
  "toc": {
   "base_numbering": 1,
   "nav_menu": {},
   "number_sections": true,
   "sideBar": true,
   "skip_h1_title": false,
   "title_cell": "Table of Contents",
   "title_sidebar": "Contents",
   "toc_cell": false,
   "toc_position": {},
   "toc_section_display": true,
   "toc_window_display": false
  },
  "widgets": {
   "state": {
    "d2b2c3aea192430e81437f33ba0b0e69": {
     "views": [
      {
       "cell_index": 22
      }
     ]
    },
    "e4a6a7a70ccd42ddb112989c04f2ed3f": {
     "views": [
      {
       "cell_index": 18
      }
     ]
    }
   },
   "version": "1.2.0"
  }
 },
 "nbformat": 4,
 "nbformat_minor": 1
}
