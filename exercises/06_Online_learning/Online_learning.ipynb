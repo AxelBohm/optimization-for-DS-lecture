{
 "cells": [
  {
   "cell_type": "markdown",
   "metadata": {},
   "source": [
    "# Learning from experts"
   ]
  },
  {
   "cell_type": "code",
   "execution_count": 165,
   "metadata": {},
   "outputs": [],
   "source": [
    "import numpy as np\n",
    "import numpy.random as random"
   ]
  },
  {
   "cell_type": "code",
   "execution_count": 166,
   "metadata": {},
   "outputs": [],
   "source": [
    "# number of experts\n",
    "n = 100\n",
    "# number of rounds played\n",
    "T = 10000"
   ]
  },
  {
   "cell_type": "markdown",
   "metadata": {},
   "source": [
    "## Problem setup"
   ]
  },
  {
   "cell_type": "markdown",
   "metadata": {},
   "source": [
    "We assume the existance of a set of predetermined answers: *Yes* or *No*."
   ]
  },
  {
   "cell_type": "code",
   "execution_count": 167,
   "metadata": {},
   "outputs": [],
   "source": [
    "list_of_correct_answers = random.choice([False, True], T)"
   ]
  },
  {
   "cell_type": "markdown",
   "metadata": {},
   "source": [
    "Every expert gets a probability with which they give a wrong answer."
   ]
  },
  {
   "cell_type": "code",
   "execution_count": 168,
   "metadata": {},
   "outputs": [],
   "source": [
    "probs = [random.random()**(1/2) for _ in range(n)]\n",
    "\n",
    "def get_expert_answers(true_answer):\n",
    "    \"\"\"Generate expert answers based on the true answer and a given probability \n",
    "    of lying for each expert.\"\"\"\n",
    "    expert_answers = np.empty_like(probs, dtype=bool)\n",
    "    rnd = random.random(n)\n",
    "    experts_that_lie = (rnd <= probs)\n",
    "    expert_answers[experts_that_lie] = np.logical_not(true_answer)\n",
    "    expert_answers[~experts_that_lie] = true_answer\n",
    "    \n",
    "    return expert_answers"
   ]
  },
  {
   "cell_type": "markdown",
   "metadata": {},
   "source": [
    "## The algorithm"
   ]
  },
  {
   "cell_type": "markdown",
   "metadata": {},
   "source": [
    "If an expert $i$ is wrong its weight for the next round gets decreased according to the rule:\n",
    "$$w_{t+1}(i) = w_t(i) (1-\\alpha).$$\n",
    "\n",
    "The next method implements the *randomized and the deterministic* method via the `randomized` flag."
   ]
  },
  {
   "cell_type": "code",
   "execution_count": 169,
   "metadata": {},
   "outputs": [],
   "source": [
    "def WMA(n, T, alpha=0.1, randomized=False):\n",
    "    \"\"\"Run the weighted majority algorithm with `n` experts for `T` timesteps\"\"\"\n",
    "    \n",
    "    # initialize weights\n",
    "    weights = np.ones(n)\n",
    "    numof_your_mistakes = 0\n",
    "    numof_expert_mistakes = np.zeros((n,T+1))\n",
    "    \n",
    "    for t in range(T):       \n",
    "        true_answer = list_of_correct_answers[t]\n",
    "        expert_answers = get_expert_answers(true_answer)\n",
    "        your_answer = form_your_answer(expert_answers, weights, randomized)\n",
    "          \n",
    "        # check result      \n",
    "        if your_answer != true_answer:\n",
    "            numof_your_mistakes += 1\n",
    "            \n",
    "        # update weights and expert mistakes\n",
    "        wrong = expert_answers != true_answer\n",
    "        numof_expert_mistakes[wrong, t+1] = numof_expert_mistakes[wrong, t]+1\n",
    "        numof_expert_mistakes[~wrong, t+1] = numof_expert_mistakes[~wrong, t]\n",
    "        weights[expert_answers != true_answer] *= 1-alpha\n",
    "                \n",
    "                \n",
    "    return numof_your_mistakes, numof_expert_mistakes        "
   ]
  },
  {
   "cell_type": "markdown",
   "metadata": {},
   "source": [
    "The next function is just part of WMA."
   ]
  },
  {
   "cell_type": "code",
   "execution_count": 175,
   "metadata": {},
   "outputs": [],
   "source": [
    "def form_your_answer(expert_answers, weights, randomized):\n",
    "    \"\"\"Return your answer in one round of the (randomized) WMA algorithm based \n",
    "    on the answers of the experts and the corresponding weights\"\"\"\n",
    "    \n",
    "    if randomized:\n",
    "        #your_answer = random.choice(...)\n",
    "        raise NotImplementedError\n",
    "    else:          \n",
    "        weight_yes = weights[expert_answers].sum()\n",
    "        # weight_no = \n",
    "        #your_answer = \n",
    "        raise NotImplementedError\n",
    "            \n",
    "    return your_answer"
   ]
  },
  {
   "cell_type": "markdown",
   "metadata": {},
   "source": [
    "## Experiments"
   ]
  },
  {
   "cell_type": "code",
   "execution_count": 171,
   "metadata": {},
   "outputs": [],
   "source": [
    "alpha = 0.1\n",
    "my_mistakes_det, expert_mistakes_det = WMA(n, T, alpha)"
   ]
  },
  {
   "cell_type": "code",
   "execution_count": 172,
   "metadata": {},
   "outputs": [],
   "source": [
    "my_mistakes_rand, expert_mistakes_rand = WMA(n, T, alpha, randomized=True)"
   ]
  },
  {
   "cell_type": "code",
   "execution_count": 173,
   "metadata": {},
   "outputs": [
    {
     "name": "stdout",
     "output_type": "stream",
     "text": [
      "I made 663 mistakes.\n",
      "Best expert had 635.0 mistakes\n"
     ]
    }
   ],
   "source": [
    "print(f'I made {my_mistakes_det} mistakes.')\n",
    "print(f'Best expert had {np.min(expert_mistakes_det[:, -1])} mistakes')"
   ]
  },
  {
   "cell_type": "code",
   "execution_count": 174,
   "metadata": {},
   "outputs": [
    {
     "name": "stdout",
     "output_type": "stream",
     "text": [
      "I made 708 mistakes.\n",
      "Best expert had 662.0 mistakes\n"
     ]
    }
   ],
   "source": [
    "print(f'I made {my_mistakes_rand} mistakes.')\n",
    "print(f'Best expert had {np.min(expert_mistakes_rand[:, -1])} mistakes')"
   ]
  },
  {
   "cell_type": "markdown",
   "metadata": {},
   "source": [
    "# Tasks"
   ]
  },
  {
   "cell_type": "markdown",
   "metadata": {},
   "source": [
    "TODO:\n",
    "- finish the `form_your_answer` function\n",
    "- plot the regret and experiment with number of rounds / experts / $\\alpha$\n",
    "\n",
    "Bonus points: If you do any of the following\n",
    "\n",
    "- try different strategies for the experts (not just random lying)\n",
    "    + you could try and manually \"hardcode\" an adversary that bases their strategy on your answer (always tells the truth until they have the highest weight, then they start lying)\n",
    "- implement the multiplicative weights algorithm (i.e. allow for general losses, not just 0/1) and run similar experiments"
   ]
  },
  {
   "cell_type": "code",
   "execution_count": null,
   "metadata": {},
   "outputs": [],
   "source": []
  }
 ],
 "metadata": {
  "kernelspec": {
   "display_name": "Python 3.9 (XPython)",
   "language": "python",
   "name": "xpython"
  },
  "language_info": {
   "file_extension": ".py",
   "mimetype": "text/x-python",
   "name": "python",
   "version": "3.9.7"
  }
 },
 "nbformat": 4,
 "nbformat_minor": 4
}
