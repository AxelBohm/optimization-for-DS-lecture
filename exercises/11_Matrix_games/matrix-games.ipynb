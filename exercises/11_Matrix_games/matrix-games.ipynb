{
 "cells": [
  {
   "cell_type": "markdown",
   "id": "6b5ce1e3-d02b-4d4a-b139-cd7d293a8375",
   "metadata": {},
   "source": [
    "# The policemen burglar matrix game"
   ]
  },
  {
   "cell_type": "code",
   "execution_count": null,
   "id": "b5106f1f-e603-467e-8013-cc1392132b98",
   "metadata": {},
   "outputs": [],
   "source": [
    "import numpy as np\n",
    "import matplotlib.pyplot as plt\n",
    "from utils import projection_simplex\n",
    "plt.rcParams['figure.figsize'] = [16, 8]\n",
    "plt.rcParams['xtick.labelsize'] = 14\n",
    "plt.rcParams['ytick.labelsize'] = 14\n",
    "plt.rc('legend', fontsize='xx-large')\n",
    "plt.rc('legend', framealpha=0.98)\n",
    "plt.rc('axes', labelsize='xx-large')"
   ]
  },
  {
   "cell_type": "markdown",
   "id": "09726e9c-63dd-4298-a3b4-2884333d99c1",
   "metadata": {},
   "source": [
    "## Problem description\n",
    "\n",
    "There are $n$ houses in a city, $i$-th with\n",
    "wealth $w_i$. Every evening, the Burglar chooses a house $i$\n",
    "to be attacked, and the Policeman chooses his post near\n",
    "a house $j$. After the burglary starts, Policeman becomes\n",
    "aware where it happens, and his probability to catch\n",
    "the Burglar is $\\exp\\{−\\theta dist(i, j)\\}$, where\n",
    "$dist(i, j)$ is the distance between houses $i$ and $j$.\n",
    "The Burglar seeks to maximize his expected profit\n",
    "$w_i(1 − \\exp\\{−\\theta dist(i, j)\\})$, and\n",
    "the interest of Policeman is completely opposite.\n",
    "\n",
    "- What are the optimal mixed strategies of Burglar and Policeman?\n",
    "\n",
    "Equivalently solve the matrix game\n",
    "$$\n",
    "\\min_{x\\in\\Delta} \\, \\max_{y\\in\\Delta}\\, y^T Ax\n",
    "$$\n",
    "where $A_{ij} = w_i(1 − \\exp\\{−\\theta dist(i, j)\\})$.\n",
    "\n",
    "See [this link](https://www2.isye.gatech.edu/~nemirovs/BrazilTransparenciesJuly4.pdf) for more details."
   ]
  },
  {
   "cell_type": "markdown",
   "id": "c2b2c53c-f989-498a-80be-745a870e6896",
   "metadata": {},
   "source": [
    "## Generating problem instances"
   ]
  },
  {
   "cell_type": "code",
   "execution_count": null,
   "id": "4d45d037-0a47-4432-8036-4f567a11c5fc",
   "metadata": {},
   "outputs": [],
   "source": [
    "def policeman_and_burglar_matrix(n, th=0.8):\n",
    "    w = np.abs(np.random.randn(n))\n",
    "    C = np.empty((n, n))\n",
    "    for i in range(n):\n",
    "        for j in range(n):\n",
    "            C[i,j] = np.abs(i-j)\n",
    "    A = w[:, None] * (1 - np.exp(-th * C))\n",
    "    return A"
   ]
  },
  {
   "cell_type": "markdown",
   "id": "df4cf1f8-0ed3-42d0-80c1-957d780fd9ff",
   "metadata": {},
   "source": [
    "## Algorithms"
   ]
  },
  {
   "cell_type": "code",
   "execution_count": null,
   "id": "79a90ba8-00bc-4181-96df-2a2352b23575",
   "metadata": {},
   "outputs": [],
   "source": [
    "def EG(x0, lr, F, max_iter=100, proj=None, gap=None):\n",
    "    \"\"\"The Extra gradient method\"\"\"\n",
    "\n",
    "    if proj is None:\n",
    "        proj = lambda x: x\n",
    "    v = x0\n",
    "    store_gap = [gap(x0)]\n",
    "\n",
    "    for k in range(max_iter):\n",
    "\n",
    "        # extrapolation step\n",
    "        u = proj(v - lr * F(v))\n",
    "\n",
    "        # update iterate\n",
    "        v = proj(v - lr * F(u))\n",
    "\n",
    "        if gap is not None:\n",
    "            store_gap.append(gap(v))\n",
    "\n",
    "    return store_gap"
   ]
  },
  {
   "cell_type": "code",
   "execution_count": null,
   "id": "86210ae8-8129-4e4a-a3c8-946e7747a15b",
   "metadata": {},
   "outputs": [],
   "source": [
    "def GDA(x0, lr, F, max_iter=100, proj=None, gap=None):\n",
    "    \"\"\"Gradient Descent Ascent. Uses a naive evaluation of F.\"\"\"\n",
    "\n",
    "    if proj is None:\n",
    "        proj = lambda x: x\n",
    "    v = x0\n",
    "    store_gap = [gap(x0)]\n",
    "\n",
    "    for k in range(max_iter):\n",
    "\n",
    "        # extrapolation step\n",
    "        v = proj(v - lr * F(v))\n",
    "\n",
    "        if gap is not None:\n",
    "            store_gap.append(gap(v))\n",
    "\n",
    "    return store_gap"
   ]
  },
  {
   "cell_type": "markdown",
   "id": "ff9bf1be-e597-440b-9899-35171c95fc33",
   "metadata": {},
   "source": [
    "### Min-Max specific generators"
   ]
  },
  {
   "cell_type": "code",
   "execution_count": null,
   "id": "ce0f66a1-5bd6-4d4b-a4d4-cd8f3aa40052",
   "metadata": {
    "tags": []
   },
   "outputs": [],
   "source": [
    "def make_F(A):\n",
    "    \"\"\"Saddle point operator of bilinear (square) min-max problem.\"\"\"\n",
    "    d = A.shape[1]\n",
    "\n",
    "    def F(z):\n",
    "        ret = np.zeros(2*d)\n",
    "        raise NotImplementedError\n",
    "        #ret[0:d] =\n",
    "        #ret[d:] =\n",
    "        return ret\n",
    "    return F"
   ]
  },
  {
   "cell_type": "code",
   "execution_count": null,
   "id": "2ce850c1-d24b-4c86-aaca-2fd1b91ba69e",
   "metadata": {},
   "outputs": [],
   "source": [
    "def make_gap_fn(A):\n",
    "    \"\"\"Return the gap function for the specific problem instance.\"\"\"\n",
    "    \n",
    "    def gap_fn(z):\n",
    "        raise NotImplementedError\n",
    "        #return np.max(A @ z[:d]) - \n",
    "    return gap_fn"
   ]
  },
  {
   "cell_type": "markdown",
   "id": "6323171b-c7f4-4449-a71c-7841d6d08e09",
   "metadata": {},
   "source": [
    "## Setup"
   ]
  },
  {
   "cell_type": "code",
   "execution_count": null,
   "id": "575a43b3-5e9a-49ef-be19-fa5943ed5dee",
   "metadata": {},
   "outputs": [],
   "source": [
    "np.random.seed(44)"
   ]
  },
  {
   "cell_type": "code",
   "execution_count": null,
   "id": "a6297cd4-623f-4203-8da3-008233ecc332",
   "metadata": {},
   "outputs": [],
   "source": [
    "d = 500\n",
    "max_iter = 1000\n",
    "A = policeman_and_burglar_matrix(d)\n",
    "sp_norm = np.linalg.norm(A, 2)\n",
    "\n",
    "def proj_double_simplex(z):\n",
    "    return np.concatenate((projection_simplex(z[:d]), projection_simplex(z[d:])))\n",
    "F_burgler = make_F(A)\n",
    "gap_fn = make_gap_fn(A)\n",
    "\n",
    "x0 = np.ones(2*d)/(d)"
   ]
  },
  {
   "cell_type": "markdown",
   "id": "60f13462-0e8d-4f31-a583-f945fa8af169",
   "metadata": {},
   "source": [
    "Stepsize has to be stricly less than $1/L$. But, to see intersting behavior the stepsize needs to be chosen much larger. Try also differen stepsizes for EG and GDA. You should observe that EG can tolerate higher ones!"
   ]
  },
  {
   "cell_type": "code",
   "execution_count": null,
   "id": "4ed626b9-c024-4515-bb14-91b64fb79d6c",
   "metadata": {},
   "outputs": [],
   "source": [
    "lr = 100/sp_norm"
   ]
  },
  {
   "cell_type": "markdown",
   "id": "78b9060f-c194-4c7c-969d-21e591f69a5d",
   "metadata": {},
   "source": [
    "Run methods:"
   ]
  },
  {
   "cell_type": "code",
   "execution_count": null,
   "id": "45d69421-43f5-485d-a008-9d24c14fdb73",
   "metadata": {},
   "outputs": [],
   "source": [
    "gaps_eg = EG(x0, lr, F_burgler, max_iter, proj_double_simplex, gap_fn)\n",
    "\n",
    "gaps_gda = GDA(x0, lr, F_burgler, max_iter, proj_double_simplex, gap_fn)"
   ]
  },
  {
   "cell_type": "markdown",
   "id": "8e475133-6ff8-4f2d-8f92-d865764cc18c",
   "metadata": {},
   "source": [
    "do the plotting"
   ]
  },
  {
   "cell_type": "code",
   "execution_count": null,
   "id": "bd15f569-8a33-4e19-b7ef-7d47990d6d0e",
   "metadata": {},
   "outputs": [],
   "source": [
    "fig, ax = plt.subplots()\n",
    "plt.plot(gaps_eg, label=\"EG\")\n",
    "plt.plot(gaps_gda, label=\"EG\")\n",
    "plt.legend()\n",
    "plt.yscale(\"log\")\n",
    "#plt.xscale(\"log\")\n",
    "plt.title(\"primal dual gap\")"
   ]
  },
  {
   "cell_type": "code",
   "execution_count": null,
   "id": "af3fdf44-fb31-4d1f-9097-2ca08382466c",
   "metadata": {},
   "outputs": [],
   "source": []
  }
 ],
 "metadata": {
  "kernelspec": {
   "display_name": "Python 3 (ipykernel)",
   "language": "python",
   "name": "python3"
  },
  "language_info": {
   "codemirror_mode": {
    "name": "ipython",
    "version": 3
   },
   "file_extension": ".py",
   "mimetype": "text/x-python",
   "name": "python",
   "nbconvert_exporter": "python",
   "pygments_lexer": "ipython3",
   "version": "3.9.5"
  },
  "toc-autonumbering": false
 },
 "nbformat": 4,
 "nbformat_minor": 5
}
