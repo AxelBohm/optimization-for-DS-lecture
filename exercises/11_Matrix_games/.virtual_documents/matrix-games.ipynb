import numpy as np
import matplotlib.pyplot as plt
from utils import projection_simplex
plt.rcParams['figure.figsize'] = [16, 8]
plt.rcParams['xtick.labelsize'] = 14
plt.rcParams['ytick.labelsize'] = 14
plt.rc('legend', fontsize='xx-large')
plt.rc('legend', framealpha=0.98)
plt.rc('axes', labelsize='xx-large')


def policeman_and_burglar_matrix(n, th=0.8):
    w = np.abs(np.random.randn(n))
    C = np.empty((n, n))
    for i in range(n):
        for j in range(n):
            C[i,j] = np.abs(i-j)
    A = w * (1 - np.exp(-th * C))
    return A


def EG(x0, lr, F, max_iter=100, proj=None, gap=None):
    """The Extra gradient method"""
    
    if proj is None:
        proj = lambda x: x
    v = x0
    store_gap = [gap(x0)]

    for k in range(max_iter):
        
        # extrapolation step
        u = proj(v - lr * F(v))
        
        # update iterate
        v = proj(v - lr * F(u))
        
        if gap is not None:
            store_gap.append(gap(v))
    
    return store_gap


def GDA(x0, lr, F, max_iter=100, proj=None, gap=None):
    """Gradient Descent Ascent. Uses a naive evaluation of F."""
    
    if proj is None:
        proj = lambda x: x
    v = x0
    store_gap = [gap(x0)]

    for k in range(max_iter):
        
        # extrapolation step
        v = proj(v - lr * F(v))
       
        if gap is not None:
            store_gap.append(gap(v))
    
    return store_gap


def make_F(A):
    """Saddle point operator of bilinear (square) min-max problem."""
    d = A.shape[1]

    def F(z):
        ret = np.zeros(2*d)
        raise NotImplementedError
        #ret[0:d] =
        #ret[d:] =
        return ret
    return F


def make_gap_fn(A):
    """Return the gap function for the specific problem instance."""
    
    def gap_fn(z):
        raise NotImplementedError
        #return np.max(A @ z[:d]) - 
    return gap_fn


np.random.seed(44)


d = 500
max_iter = 1000
A = policeman_and_burglar_matrix(d)
sp_norm = np.linalg.norm(A, 2)

def proj_double_simplex(z):
    return np.concatenate((projection_simplex(z[:d]), projection_simplex(z[d:])))
F_burgler = make_F(A)
gap_fn = make_gap_fn(A)

x0 = np.ones(2*d)/(d)


lr = 0.99/sp_norm


gaps_eg = EG(x0, lr, F_burgler, max_iter, proj_double_simplex, gap_fn)

gaps_gda = GDA(x0, lr, F_burgler, max_iter, proj_double_simplex, gap_fn)


fig, ax = plt.subplots()
plt.plot(gap_eg, label="EG")
plt.plot(gap_GDA, label="EG")
plt.legend()
plt.yscale("log")
#plt.xscale("log")
plt.title("primal dual gap")



